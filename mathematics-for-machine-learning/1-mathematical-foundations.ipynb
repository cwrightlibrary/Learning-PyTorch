{
 "cells": [
  {
   "cell_type": "markdown",
   "id": "826fe2f4",
   "metadata": {},
   "source": [
    "# Part 1<br>Mathematical foundations"
   ]
  },
  {
   "cell_type": "markdown",
   "id": "7931b5b5",
   "metadata": {},
   "source": [
    "## 1. Introduction and motivation\n",
    "\n",
    "#### Key terms\n",
    "\n",
    "- Data\n",
    "- Model\n",
    "- Learning\n",
    "\n",
    "---\n",
    "\n",
    "The core concept behind machine learning (ML) is that we design algorithms that **automatically** extract valuable information about data, through general-purpose methodologies which can be used in many datasets, while also outputting something that is meaningful. There are three concepts that make up the basis of ML:\n",
    "\n",
    "> #### 💡 Three core concepts in machine learning\n",
    "> \n",
    "> - **Data**. Data is foundational because ML is inherently data driven. Our goal with data is to design general-purpose methodologies to extract patterns, ideally without much domain-specific expertise.\n",
    "> - **Model**. We design models that are typically related to the process that generates data, similar to the dataset we are given. As Mitchell (1997) related, *A model is said to learn from data if its performance on a given task improves after the data is taken into account. The goal is to find good models that generalize well to yet unseen data, which we may care about in the future*.\n",
    "> - **Learning**. This can be thought of as a way to automatically find patterns and structure in data through the optimization of the parameters of the model.\n",
    "\n",
    "There are many tools available to train models quickly with a lot of abstraction behind what's actually going on, especially in the training process. This whole book will provide the important, fundamental principles upon which ML is built. As they say, understanding these principles will provide me with the tools to create new ML solutions, understand and debug existing approaches, and learn about the inherent assumptions and limitations of the methodologies we're working with."
   ]
  },
  {
   "cell_type": "markdown",
   "id": "817a96d1",
   "metadata": {},
   "source": [
    "### 1.1 Finding words for intuitions\n",
    "\n",
    "#### Key terms\n",
    "\n",
    "- Predictor\n",
    "- Training\n",
    "- Data as vectors\n",
    "\n",
    "---\n",
    "\n",
    "A common problem faced in ML is that particular components of the ML system can be abstracted to different mathematical concepts. The word *algorithm* is used in at least two different senses in the context of ML. In the first, the phrase *machine learning algorithm* is used to mean a system that makes predictions based on input data. We refer to these algorithms as **predictors**. In the second, the same phrase *machine learning algorithm* can mean a system that adapts some internal parameters of the predictor so that it performs well on future unseen input data; we refer to this instance of *algorithm* as **training** a system.\n",
    "\n",
    "It's useful to consider data in a number format, even thought our input data may not be numerical. For this entire book, it's assumed that our *data* has already been appropriately converted into a numerical representation suitable for reading into a computer program. Because of this, it's best to think of **data as vectors**. There are (at least) three ways to look at vectors: a vector as an array of numbers (a computer science view, easiest for me to grasp), a vector as an arrow with a direction and magnitude (a physics view), and a vector as an object that obeys addition and scaling (a mathematical view).\n",
    "\n",
    "In an ML context, a **model** is typically used to describe a process for generating data that looks similar to the dataset at hand. A good model can be looked at as a simplified version of the real, and unknown, data-generating process and captures aspects from this process that are relevant for modeling the data and extracting hidden patterns from it. So we could use a good model to predict something that could happen in the real world without performing real-world experiments.\n",
    "\n",
    "The most important part of the ML process is the **learning** component. Let's assume we're given a dataset and a suitable model. **Training** the model means we use the data available to use for optimizing some parameters of the model with respect to a utility function that evaluates how well the model predicts the training data. While our model may perform well on data that we have seen (the training data), it may mean that we just trained our machine to memorize the data. We need to adapt our model to unseen data, and, in practical applications, we need to expose our ML system to situations that it hasn't encountered.\n",
    "\n",
    "> 💡 The main concepts of ML are:\n",
    "> \n",
    "> - We represent data as vectors.\n",
    "> - We choose an appropriate model, either using the probabilistic or optimization view.\n",
    "> - We learn from available data by using numerical optimization methods with the aim that the model performs well on data not used for training."
   ]
  },
  {
   "cell_type": "markdown",
   "id": "1162f689",
   "metadata": {},
   "source": [
    "### 1.2 Two ways to read this (note)book\n",
    "\n"
   ]
  }
 ],
 "metadata": {
  "kernelspec": {
   "display_name": ".venv (3.13.5)",
   "language": "python",
   "name": "python3"
  },
  "language_info": {
   "name": "python",
   "version": "3.13.5"
  }
 },
 "nbformat": 4,
 "nbformat_minor": 5
}
