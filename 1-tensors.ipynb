{
 "cells": [
  {
   "cell_type": "markdown",
   "id": "cea420a2",
   "metadata": {},
   "source": [
    "# [PyTorch - Learning the Basics](https://pytorch.org/tutorials/beginner/basics/intro.html)\n",
    "\n",
    "In this first part, I'll go through the first section from the website on tensors."
   ]
  },
  {
   "cell_type": "markdown",
   "id": "ec90031b",
   "metadata": {},
   "source": [
    "## Tensors\n",
    "\n",
    "Tensors are similar to arrays (lists) or matrices but are more specialized data structures. We'll use them to encode the inputs and outputs of a model, as well as the model's parameters.\n",
    "\n",
    "The text notes that tensors are very similar to `numpy`'s `ndarrays`, except that tensors can run on GPUs. Tensors are also optimized for automatic differentiation, which will be covered in the [Autograd](https://docs.pytorch.org/tutorials/beginner/basics/autogradqs_tutorial.html) section. Let's get started with some `import`ing."
   ]
  },
  {
   "cell_type": "code",
   "execution_count": 1,
   "id": "f337b2e4",
   "metadata": {},
   "outputs": [],
   "source": [
    "import torch\n",
    "import numpy as np"
   ]
  },
  {
   "cell_type": "markdown",
   "id": "f9ad0e3c",
   "metadata": {},
   "source": [
    "### Initializing a tensor\n",
    "\n",
    "Tensors can be created directly from data, automatically inferring the data type."
   ]
  },
  {
   "cell_type": "code",
   "execution_count": 4,
   "id": "6ff547e4",
   "metadata": {},
   "outputs": [
    {
     "data": {
      "text/plain": [
       "tensor([[1, 2],\n",
       "        [3, 4]])"
      ]
     },
     "execution_count": 4,
     "metadata": {},
     "output_type": "execute_result"
    }
   ],
   "source": [
    "data = [[1, 2], [3, 4]]\n",
    "x_data = torch.tensor(data)\n",
    "\n",
    "x_data"
   ]
  },
  {
   "cell_type": "markdown",
   "id": "4a6de202",
   "metadata": {},
   "source": [
    "We can also create tensors from `numpy` arrays."
   ]
  },
  {
   "cell_type": "code",
   "execution_count": 3,
   "id": "65459531",
   "metadata": {},
   "outputs": [
    {
     "data": {
      "text/plain": [
       "tensor([[1, 2],\n",
       "        [3, 4]])"
      ]
     },
     "execution_count": 3,
     "metadata": {},
     "output_type": "execute_result"
    }
   ],
   "source": [
    "np_array = np.array(data)\n",
    "x_np = torch.from_numpy(np_array)\n",
    "\n",
    "x_np"
   ]
  },
  {
   "cell_type": "markdown",
   "id": "f8aeec10",
   "metadata": {},
   "source": [
    "We can even create tensors from other tensors. It'll retain the shape and datatype of the argument tensor, unless explicity overridden."
   ]
  },
  {
   "cell_type": "code",
   "execution_count": 6,
   "id": "10f704ad",
   "metadata": {},
   "outputs": [
    {
     "name": "stdout",
     "output_type": "stream",
     "text": [
      "Ones tensor: \n",
      " tensor([[1, 1],\n",
      "        [1, 1]]) \n",
      "\n",
      "Random tensor: \n",
      " tensor([[0.7150, 0.5565],\n",
      "        [0.3284, 0.4643]])\n"
     ]
    }
   ],
   "source": [
    "x_ones = torch.ones_like(x_data) # retains the properties of x_data\n",
    "print(f\"Ones tensor: \\n {x_ones} \\n\")\n",
    "\n",
    "x_rand = torch.rand_like(x_data, dtype=torch.float) # overrides the datatype of x_data\n",
    "print(f\"Random tensor: \\n {x_rand}\")"
   ]
  },
  {
   "cell_type": "markdown",
   "id": "d067226e",
   "metadata": {},
   "source": [
    "Let's see how we can create tensors with random or constant values. `shape` is a tuple of tensor dimensions, it determines the dimensionality of the output tensor."
   ]
  },
  {
   "cell_type": "code",
   "execution_count": 7,
   "id": "8b7c696e",
   "metadata": {},
   "outputs": [
    {
     "name": "stdout",
     "output_type": "stream",
     "text": [
      "Random tensor: \n",
      " tensor([[0.6250, 0.2424, 0.1608],\n",
      "        [0.6173, 0.9929, 0.4864]]) \n",
      "\n",
      "Ones tensor: \n",
      " tensor([[1., 1., 1.],\n",
      "        [1., 1., 1.]]) \n",
      "\n",
      "Zeros tensor: \n",
      " tensor([[0., 0., 0.],\n",
      "        [0., 0., 0.]])\n"
     ]
    }
   ],
   "source": [
    "shape = (2, 3,)\n",
    "\n",
    "rand_tensor = torch.rand(shape)\n",
    "ones_tensor = torch.ones(shape)\n",
    "zeros_tensor = torch.zeros(shape)\n",
    "\n",
    "print(f\"Random tensor: \\n {rand_tensor} \\n\")\n",
    "print(f\"Ones tensor: \\n {ones_tensor} \\n\")\n",
    "print(f\"Zeros tensor: \\n {zeros_tensor}\")"
   ]
  },
  {
   "cell_type": "markdown",
   "id": "6208661f",
   "metadata": {},
   "source": [
    "### Attributes of a tensor\n",
    "\n",
    "A tensor's attributes describe its shape, datatype, and device on which it's stored."
   ]
  },
  {
   "cell_type": "code",
   "execution_count": 8,
   "id": "3c5866f5",
   "metadata": {},
   "outputs": [
    {
     "name": "stdout",
     "output_type": "stream",
     "text": [
      "Shape of tensor: torch.Size([3, 4])\n",
      "Datatype of tensor: torch.float32\n",
      "Device tensor is stored on: cpu\n"
     ]
    }
   ],
   "source": [
    "tensor = torch.rand(3, 4)\n",
    "\n",
    "print(f\"Shape of tensor: {tensor.shape}\")\n",
    "print(f\"Datatype of tensor: {tensor.dtype}\")\n",
    "print(f\"Device tensor is stored on: {tensor.device}\")"
   ]
  },
  {
   "cell_type": "markdown",
   "id": "de0163b5",
   "metadata": {},
   "source": [
    "### Operations on tensors\n",
    "\n",
    "[There are over 1,200 tensor operations](https://pytorch.org/docs/stable/torch.html):\n",
    "\n",
    "- Arithmetic\n",
    "- Linear algebra\n",
    "- Matrix manipulation\n",
    "  - Transposing\n",
    "  - Indexing\n",
    "  - Slicing\n",
    "- Sampling\n",
    "- More\n",
    "\n",
    "The operations can be run on the CPU as well as an [Accelerator](https://pytorch.org/docs/stable/torch.html#accelerators), like CUDA, MPS (M1 Mac), MTIA, and XPU.\n",
    "\n",
    "Tensors use the CPU by default. We can explicitly move the tensor to an accelerator using the `.to` method. Let's set a device."
   ]
  },
  {
   "cell_type": "code",
   "execution_count": 10,
   "id": "5f83d901",
   "metadata": {},
   "outputs": [
    {
     "name": "stdout",
     "output_type": "stream",
     "text": [
      "Current accelerator: mps\n"
     ]
    }
   ],
   "source": [
    "# Set the tensor to use a device, if available\n",
    "if torch.accelerator.is_available():\n",
    "    tensor = tensor.to(torch.accelerator.current_accelerator())\n",
    "\n",
    "    print(f\"Current accelerator: {torch.accelerator.current_accelerator()}\")"
   ]
  },
  {
   "cell_type": "markdown",
   "id": "e2795bc0",
   "metadata": {},
   "source": [
    "Here are a few examples showing tensor manipulation in a `numpy`-like fashion."
   ]
  },
  {
   "cell_type": "code",
   "execution_count": null,
   "id": "337b29a5",
   "metadata": {},
   "outputs": [
    {
     "name": "stdout",
     "output_type": "stream",
     "text": [
      "First row: tensor([1., 1., 1., 1.])\n",
      "First column: tensor([1., 1., 1., 1.])\n",
      "Last column: tensor([1., 1., 1., 1.])\n",
      "tensor([[1., 0., 1., 1.],\n",
      "        [1., 0., 1., 1.],\n",
      "        [1., 0., 1., 1.],\n",
      "        [1., 0., 1., 1.]])\n"
     ]
    }
   ],
   "source": [
    "tensor = torch.ones(4, 4)\n",
    "\n",
    "print(f\"First row: {tensor[0]}\")\n",
    "print(f\"First column: {tensor[:, 0]}\")\n",
    "print(f\"Last column: {tensor[..., -1]}\")\n",
    "\n",
    "tensor[:, 1] = 0 # Set column index 1 to 0.\n",
    "print(tensor)"
   ]
  },
  {
   "cell_type": "markdown",
   "id": "c90387c4",
   "metadata": {},
   "source": [
    "We can use `torch.cat` to concatenate a sequence of tensors along a given dimension. Another method that's slightly different is [`torch.stack`](https://pytorch.org/docs/stable/generated/torch.stack.html)."
   ]
  },
  {
   "cell_type": "code",
   "execution_count": 12,
   "id": "118066f2",
   "metadata": {},
   "outputs": [
    {
     "data": {
      "text/plain": [
       "tensor([[1., 0., 1., 1., 1., 0., 1., 1., 1., 0., 1., 1.],\n",
       "        [1., 0., 1., 1., 1., 0., 1., 1., 1., 0., 1., 1.],\n",
       "        [1., 0., 1., 1., 1., 0., 1., 1., 1., 0., 1., 1.],\n",
       "        [1., 0., 1., 1., 1., 0., 1., 1., 1., 0., 1., 1.]])"
      ]
     },
     "execution_count": 12,
     "metadata": {},
     "output_type": "execute_result"
    }
   ],
   "source": [
    "t1 = torch.cat([tensor, tensor, tensor], dim=1)\n",
    "\n",
    "t1"
   ]
  },
  {
   "cell_type": "markdown",
   "id": "8c02065d",
   "metadata": {},
   "source": [
    "Below are a few examples of arithmetic operations on tensors."
   ]
  },
  {
   "cell_type": "code",
   "execution_count": 13,
   "id": "e69ecc69",
   "metadata": {},
   "outputs": [
    {
     "data": {
      "text/plain": [
       "tensor([[1., 0., 1., 1.],\n",
       "        [1., 0., 1., 1.],\n",
       "        [1., 0., 1., 1.],\n",
       "        [1., 0., 1., 1.]])"
      ]
     },
     "execution_count": 13,
     "metadata": {},
     "output_type": "execute_result"
    }
   ],
   "source": [
    "# This computes the matrix multiplication between two tensors.\n",
    "# y1, y2, y3 will have the same value\n",
    "# ``tensor.T`` returns the transpose of a tensor\n",
    "y1 = tensor @ tensor.T\n",
    "y2 = tensor.matmul(tensor.T)\n",
    "\n",
    "y3 = torch.rand_like(y1)\n",
    "torch.matmul(tensor, tensor.T, out=y3)\n",
    "\n",
    "# This computes the element-wise product.\n",
    "# z1, z2, z3 will have the same value\n",
    "z1 = tensor * tensor\n",
    "z2 = tensor.mul(tensor)\n",
    "\n",
    "z3 = torch.rand_like(tensor)\n",
    "torch.mul(tensor, tensor, out=z3)"
   ]
  },
  {
   "cell_type": "markdown",
   "id": "81d2b959",
   "metadata": {},
   "source": [
    "We can convert a single-element tnesor, if one, for example, was aggregated into one value, into a Python numberical value using `item()`."
   ]
  },
  {
   "cell_type": "code",
   "execution_count": 14,
   "id": "8ecf6813",
   "metadata": {},
   "outputs": [
    {
     "name": "stdout",
     "output_type": "stream",
     "text": [
      "12.0 <class 'float'>\n"
     ]
    }
   ],
   "source": [
    "agg = tensor.sum()\n",
    "agg_item = agg.item()\n",
    "\n",
    "print(agg_item, type(agg_item))"
   ]
  },
  {
   "cell_type": "markdown",
   "id": "e9a803d8",
   "metadata": {},
   "source": [
    "Operations that store the result into the operand are called **in-place** and are denoted by a `_` suffix. For example: `x.copy_(y)`, `x.t()`, will change `x`.\n",
    "\n",
    "> **！Note**\n",
    ">\n",
    "> In-place operations save some memory, but can be problematic when computing derivatives because of an immediate loss of history. Hence, their use is discouraged."
   ]
  },
  {
   "cell_type": "code",
   "execution_count": 15,
   "id": "947e9a71",
   "metadata": {},
   "outputs": [
    {
     "name": "stdout",
     "output_type": "stream",
     "text": [
      "tensor([[1., 0., 1., 1.],\n",
      "        [1., 0., 1., 1.],\n",
      "        [1., 0., 1., 1.],\n",
      "        [1., 0., 1., 1.]]) \n",
      "\n",
      "tensor([[6., 5., 6., 6.],\n",
      "        [6., 5., 6., 6.],\n",
      "        [6., 5., 6., 6.],\n",
      "        [6., 5., 6., 6.]])\n"
     ]
    }
   ],
   "source": [
    "print(f\"{tensor} \\n\")\n",
    "\n",
    "tensor.add_(5)\n",
    "\n",
    "print(tensor)"
   ]
  },
  {
   "cell_type": "markdown",
   "id": "5a9424c0",
   "metadata": {},
   "source": [
    "### Bridge with `numpy`\n",
    "\n",
    "Tensors on the CPU and `numpy` arrays can share their underlying memory locations, and changing one will also change the other.\n",
    "\n",
    "Below is an example of a tensor to `numpy` array."
   ]
  },
  {
   "cell_type": "code",
   "execution_count": 16,
   "id": "1fd009bc",
   "metadata": {},
   "outputs": [
    {
     "name": "stdout",
     "output_type": "stream",
     "text": [
      "t: tensor([1., 1., 1., 1., 1.])\n",
      "n: [1. 1. 1. 1. 1.]\n"
     ]
    }
   ],
   "source": [
    "t = torch.ones(5)\n",
    "print(f\"t: {t}\")\n",
    "\n",
    "n = t.numpy()\n",
    "print(f\"n: {n}\")"
   ]
  },
  {
   "cell_type": "markdown",
   "id": "5a5aa631",
   "metadata": {},
   "source": [
    "A change in the tensor reflects in the `numpy` array. This is different than I'm used to seeing, really interesting behavior."
   ]
  },
  {
   "cell_type": "code",
   "execution_count": 17,
   "id": "9c24853f",
   "metadata": {},
   "outputs": [
    {
     "name": "stdout",
     "output_type": "stream",
     "text": [
      "t: tensor([2., 2., 2., 2., 2.])\n",
      "n: [2. 2. 2. 2. 2.]\n"
     ]
    }
   ],
   "source": [
    "t.add_(1)\n",
    "print(f\"t: {t}\")\n",
    "print(f\"n: {n}\")"
   ]
  },
  {
   "cell_type": "markdown",
   "id": "ed01e853",
   "metadata": {},
   "source": [
    "Here's an example of changing a `numpy` array to a tensor. Again, the changes in the `numpy` array reflect in the tensor."
   ]
  },
  {
   "cell_type": "code",
   "execution_count": 18,
   "id": "16df995b",
   "metadata": {},
   "outputs": [
    {
     "name": "stdout",
     "output_type": "stream",
     "text": [
      "t: tensor([2., 2., 2., 2., 2.], dtype=torch.float64)\n",
      "n: [2. 2. 2. 2. 2.]\n"
     ]
    }
   ],
   "source": [
    "n = np.ones(5)\n",
    "t = torch.from_numpy(n)\n",
    "\n",
    "np.add(n, 1, out=n)\n",
    "print(f\"t: {t}\")\n",
    "print(f\"n: {n}\")"
   ]
  }
 ],
 "metadata": {
  "kernelspec": {
   "display_name": ".venv",
   "language": "python",
   "name": "python3"
  },
  "language_info": {
   "codemirror_mode": {
    "name": "ipython",
    "version": 3
   },
   "file_extension": ".py",
   "mimetype": "text/x-python",
   "name": "python",
   "nbconvert_exporter": "python",
   "pygments_lexer": "ipython3",
   "version": "3.13.5"
  }
 },
 "nbformat": 4,
 "nbformat_minor": 5
}
