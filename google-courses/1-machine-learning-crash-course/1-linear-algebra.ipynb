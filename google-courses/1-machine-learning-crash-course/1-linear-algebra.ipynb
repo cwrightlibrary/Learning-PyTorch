{
 "cells": [
  {
   "cell_type": "markdown",
   "id": "f7cf88a1",
   "metadata": {},
   "source": [
    "# [Linear algebra](https://developers.google.com/machine-learning/crash-course/linear-regression)\n",
    "\n",
    "### 🎓 Learning objectives:\n",
    "\n",
    "- Explain a loss function and how it works.\n",
    "- Define and describe how gradient descent finds the optimal model parameters.\n",
    "- Describe how to tune hyperparameters to efficiently train a linear model."
   ]
  },
  {
   "cell_type": "markdown",
   "id": "f4dc7e36",
   "metadata": {},
   "source": [
    "## Linear regression\n",
    "\n",
    "**Linear regression** is a type of machine learning model in which the model is a linear model and the prediction is a floating-point value. (This is the regression part of *linear regression*). It's a statistical technique used to find the relationship between variables. In a machine learning (ML) context, it finds the relationship between **features**, which is an input variable to a machine learning model, and a **label**, which is, in supervised machine learning, the \"answer\" or \"result\" portion of an example.\n",
    "\n",
    "---\n",
    "\n",
    "Consider this example: suppose we want to predict a car's fuel efficiency in miles per gallon based on how heavy the car is, and we have the following dataset:\n",
    "\n",
    "| Pounds in 1000s (feature) | Miles per gallone (label) |\n",
    "|---------------------------|---------------------------|\n",
    "| 3.5                       | 18                        |\n",
    "| 3.69                      | 15                        |\n",
    "| 3.44                      | 18                        |\n",
    "| 3.43                      | 16                        |\n",
    "| 4.34                      | 15                        |\n",
    "| 4.42                      | 14                        |\n",
    "| 2.37                      | 24                        |\n",
    "\n",
    "Let's plot it into a `matplotlib` graph:"
   ]
  }
 ],
 "metadata": {
  "kernelspec": {
   "display_name": ".venv (3.13.5)",
   "language": "python",
   "name": "python3"
  },
  "language_info": {
   "name": "python",
   "version": "3.13.5"
  }
 },
 "nbformat": 4,
 "nbformat_minor": 5
}
