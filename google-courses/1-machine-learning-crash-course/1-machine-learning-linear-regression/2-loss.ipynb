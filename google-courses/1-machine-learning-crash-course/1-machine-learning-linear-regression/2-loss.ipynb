{
 "cells": [
  {
   "cell_type": "markdown",
   "id": "e9a43065",
   "metadata": {},
   "source": [
    "# [Linear regression: Loss](https://developers.google.com/machine-learning/crash-course/linear-regression/loss)\n",
    "\n"
   ]
  }
 ],
 "metadata": {
  "language_info": {
   "name": "python"
  }
 },
 "nbformat": 4,
 "nbformat_minor": 5
}
