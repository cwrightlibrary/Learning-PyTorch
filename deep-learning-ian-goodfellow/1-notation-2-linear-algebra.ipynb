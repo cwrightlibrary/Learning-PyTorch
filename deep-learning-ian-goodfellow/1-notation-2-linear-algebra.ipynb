{
 "cells": [
  {
   "cell_type": "markdown",
   "id": "3ee411c1",
   "metadata": {},
   "source": [
    "# [Deep Learning Textbook](textbooks\\deep-learning-ian-goodfellow-yoshua-bengio-aaron-courville.pdf)\n",
    "\n",
    "In this notebook, I'll be going through the textbook. Let's get started."
   ]
  },
  {
   "cell_type": "markdown",
   "id": "ecea4f83",
   "metadata": {},
   "source": []
  }
 ],
 "metadata": {
  "language_info": {
   "name": "python"
  }
 },
 "nbformat": 4,
 "nbformat_minor": 5
}
