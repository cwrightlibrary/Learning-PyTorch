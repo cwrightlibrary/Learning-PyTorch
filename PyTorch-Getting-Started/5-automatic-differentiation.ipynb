{
 "cells": [
  {
   "cell_type": "markdown",
   "id": "8aade167",
   "metadata": {},
   "source": [
    "# [PyTorch - Learning the Basics](https://pytorch.org/tutorials/beginner/basics/intro.html)\n",
    "\n",
    "In part five we'll cover automatic differentiation."
   ]
  },
  {
   "cell_type": "markdown",
   "id": "80ee4bfd",
   "metadata": {},
   "source": [
    "## Automatic differentiation with `torch.autograd`\n",
    "\n",
    "**Back propagation** is the most frequently used algorithm when training neural networks. In back propagation, parameters, or model weights, are adjusted according to the **gradient** of the loss function with respect to the given parameter. Here's a quick overview of some terms for clarification:\n",
    "\n",
    "- The **Loss function** is a formula that measures **how bad the model's prediction is** compared to the actual target. It's essentially a score that we want to be low, it's best to minimize the loss function during training.\n",
    "- The **gradient** is the **slope of the loss function** with respect to the model's parameters (weights and biases). We can use it to learn **how to change the parameters** to reduce the loss. If the gradient is positive, we want to decrease the weight and if it's negative, we want to increase it. It's calculated using **calculus** (specifically, partial derivatives).\n",
    "- **Back propagation** is the algorithm used to **efficiently compute all gradients** of the loss with respect to every weight in the network. In it, we do a **forward pass**, which is used for computing predictions and loss, and a **backward pass**, where we apply the chain rule to propagate gradients from output to input. The gradients returned from back propagation are used to **update the weights**, typically via gradient descent.\n",
    "\n",
    "In PyTorch, we use the built-in differentiation engine `torch.autograd` to compute the gradients. It supports automatic computation of gradient for any computational graph.\n",
    "\n",
    "As an example, let's consider the simplest one-layer neural network, with input `x`, parameters `w` and `b`, and some loss function. It can be defined in PyTorch like so:"
   ]
  },
  {
   "cell_type": "code",
   "execution_count": 1,
   "id": "a2e36ead",
   "metadata": {},
   "outputs": [],
   "source": [
    "import torch\n",
    "\n",
    "x = torch.ones(5)       # input tensor\n",
    "y = torch.zeros(3)      # expected output\n",
    "w = torch.randn(5, 3, requires_grad=True)\n",
    "b = torch.randn(3, requires_grad=True)\n",
    "z = torch.matmul(x, w) + b\n",
    "loss = torch.nn.functional.binary_cross_entropy_with_logits(z, y)"
   ]
  },
  {
   "cell_type": "markdown",
   "id": "311f65c5",
   "metadata": {},
   "source": [
    "### Tensors, functions, and computational graph\n",
    "\n",
    "The code above defines the following **computational graph**:\n",
    "\n",
    "```mermaid\n",
    "flowchart LR\n",
    " subgraph s1[\"Parameters\"]\n",
    "        n7[\"w\"]\n",
    "        n8[\"b\"]\n",
    "  end\n",
    "    A[\"x\"] --> n1[\"times\"]\n",
    "    n1 --> n2[\"plus\"]\n",
    "    n2 --> n3[\"z\"]\n",
    "    n3 --> n4[\"CE\"]\n",
    "    n4 --> n5[\"loss\"]\n",
    "    n6[\"y\"] --> n4\n",
    "    n7 --> n1\n",
    "    n8 --> n2\n",
    "    n7@{ shape: rounded}\n",
    "    n8@{ shape: rounded}\n",
    "    A@{ shape: rounded}\n",
    "    n1@{ shape: rounded}\n",
    "    n2@{ shape: rounded}\n",
    "    n3@{ shape: rounded}\n",
    "    n4@{ shape: rounded}\n",
    "    n5@{ shape: rounded}\n",
    "    n6@{ shape: rounded}\n",
    "```\n",
    "\n",
    "So, in this network `w` and `b` are **parameters** that need to be optimized. Thus, we need to be able to compute the gradients of the loss function with respect to those variables. To do this, we set the `requires_grad` property of those tensors.\n",
    "\n",
    "> **！Note**\n",
    ">\n",
    "> You can set the value of `requires_grad` when creating a tensor, or later by using the `x.requires_grad_(True)` method.\n",
    "\n",
    "A function that we apply to tensors to construct a computational graph is in fact an object of class `Function`. This object knows how to compute the function in the *forward* direction, and also how to compute its derivative during the *backward propagation* step. A reference to the backward propagation function is stored in the `grad_fn` property of a tensor. Read more about the [`Function` in the documentation](https://pytorch.org/docs/stable/autograd.html#function)."
   ]
  },
  {
   "cell_type": "code",
   "execution_count": 2,
   "id": "0d72a971",
   "metadata": {},
   "outputs": [
    {
     "name": "stdout",
     "output_type": "stream",
     "text": [
      "Gradient function for z: <AddBackward0 object at 0x111275240>\n",
      "Gradient function for loss: <BinaryCrossEntropyWithLogitsBackward0 object at 0x1112757b0>\n"
     ]
    }
   ],
   "source": [
    "print(f\"Gradient function for z: {z.grad_fn}\")\n",
    "print(f\"Gradient function for loss: {loss.grad_fn}\")"
   ]
  },
  {
   "cell_type": "markdown",
   "id": "ceb26a8b",
   "metadata": {},
   "source": [
    "### Computing gradients\n",
    "\n",
    "Let's get into actually computing the gradients. To optimize the weights of parameters in the neural network, we need to compute the derivatives of our loss function with respect to the parameters, namely, we need $\\frac{\\delta \\text{loss}}{\\delta w}$ and $\\frac{\\delta \\text{loss}}{\\delta b}$ under some fixed values of `x` and `y`. We call `loss.backward()` to compute those derivatives and then retrieve the values from `w.grad` and `b.grad`:"
   ]
  },
  {
   "cell_type": "code",
   "execution_count": 3,
   "id": "1eb01cb8",
   "metadata": {},
   "outputs": [
    {
     "name": "stdout",
     "output_type": "stream",
     "text": [
      "tensor([[0.3077, 0.1131, 0.0441],\n",
      "        [0.3077, 0.1131, 0.0441],\n",
      "        [0.3077, 0.1131, 0.0441],\n",
      "        [0.3077, 0.1131, 0.0441],\n",
      "        [0.3077, 0.1131, 0.0441]])\n",
      "tensor([0.3077, 0.1131, 0.0441])\n"
     ]
    }
   ],
   "source": [
    "loss.backward()\n",
    "\n",
    "print(w.grad)\n",
    "print(b.grad)"
   ]
  },
  {
   "cell_type": "markdown",
   "id": "c41a9697",
   "metadata": {},
   "source": [
    "> **！Note**\n",
    ">\n",
    "> - We can only obtain the `grad` properties for the leaf nodes of the computational graph, which have the `requires_grad` property set to `True`. For all other nodes in our graph, gradients will not be available.\n",
    "> - We can only perform gradient calculations using `backward` once on a given graph, for performance reasons. If we need to do several `backward` calls on the same graph, we need to pass `retain_graph=True` to the `backward` call."
   ]
  },
  {
   "cell_type": "markdown",
   "id": "9f867ab2",
   "metadata": {},
   "source": [
    "### Disabling gradient tracking\n",
    "\n",
    "All tensors with `requires_grad=True` are tracking their computational history and support gradient computation by default. There are some cases that we do not need to do that, for example, when we have trained the model and just want to apply it to some input data, i.e. we only want to do *forward* computations through the network. We can stop tracking computations by surrounding our computation code with the `torch.no_grad()` block:"
   ]
  },
  {
   "cell_type": "code",
   "execution_count": 4,
   "id": "da177170",
   "metadata": {},
   "outputs": [
    {
     "name": "stdout",
     "output_type": "stream",
     "text": [
      "True\n",
      "False\n"
     ]
    }
   ],
   "source": [
    "z = torch.matmul(x, w) + b\n",
    "print(z.requires_grad)\n",
    "\n",
    "with torch.no_grad():\n",
    "    z = torch.matmul(x, w) + b\n",
    "\n",
    "print(z.requires_grad)"
   ]
  },
  {
   "cell_type": "markdown",
   "id": "b3acf6fb",
   "metadata": {},
   "source": [
    "We can also use the `detach()` method on the tensor to achieve the same results:"
   ]
  },
  {
   "cell_type": "code",
   "execution_count": 5,
   "id": "17218295",
   "metadata": {},
   "outputs": [
    {
     "name": "stdout",
     "output_type": "stream",
     "text": [
      "False\n"
     ]
    }
   ],
   "source": [
    "z = torch.matmul(x, w) + b\n",
    "z_det = z.detach()\n",
    "\n",
    "print(z_det.requires_grad)"
   ]
  },
  {
   "cell_type": "markdown",
   "id": "9c937805",
   "metadata": {},
   "source": [
    "**Here are some reasons why you might want to disable gradient tracking:**\n",
    "\n",
    "- To mark some parameters in your neural network as **frozen parameters**.\n",
    "- To **speed up computations** when you are only doing a forward pass, because computations on tensors that do not track gradients would be more efficient."
   ]
  },
  {
   "cell_type": "markdown",
   "id": "d8a02b05",
   "metadata": {},
   "source": [
    "### More on computational graphs\n",
    "\n",
    "Autograd keeps a record of data (tensors) and all executed operations (along with the resulting new tensors) in a direct acyclic graph (DAG) consisting of [Function](https://pytorch.org/docs/stable/autograd.html#torch.autograd.Function) objects. In this DAG, leaves are the input tensors, roots are the output tensors. By tracing this graph from roots to leaves, you can automatically compute the gradients using the chain rule.\n",
    "\n",
    "In a forward pass, autograd does two things at the same time:\n",
    "\n",
    "- run the requested operation to compute a resulting tensor, and\n",
    "- maintain the operation's *gradient function* in the DAG.\n",
    "\n",
    "The backward pass kicks off when `.backward()` is called on the DAG root. `autograd` then:\n",
    "\n",
    "- computes the gradients from each `.grad_fn`,\n",
    "- accumulates them in the respective tensor's `.grad` attribute, and\n",
    "- using the chain rule, propagates all the way to the leaf tensors.\n",
    "\n",
    "> **！Note**\n",
    ">\n",
    "> **DAGs are dynamic in PyTorch.** An important thing to note is that the graph is recreated from scratch; after each `.backward()` call, autograd starts populating a new graph. This is exactly what allows you to use control flow statements in your mode; you can change the shape, size, and operations at every iteration if needed."
   ]
  },
  {
   "cell_type": "markdown",
   "id": "3ec601c8",
   "metadata": {},
   "source": [
    "### Tensor gradients and Jacobian products\n",
    "\n",
    "In many cases, we have a scalar loss function, and we need to compute the gradient with respect to some parameters. However, there are cases when the output function is an arbitrary tensor. In this case, PyTorch allows you to compute a so-called **Jacobian product**, and not the actual gradient.\n",
    "\n",
    "For a vector function $\\vec{y}=f(\\vec{x})$, where $\\vec{x}=\\langle x_1,...,x_n\\rangle$ and $\\vec{y}=\\langle y_1,...,y_m\\rangle$, a gradient of $\\vec{y}$ with respect to $\\vec{x}$ is given by the **Jacobian matrix**:\n",
    "\n",
    "$$\n",
    "J = \\begin{bmatrix}\n",
    "\\frac{\\delta y_1}{\\delta x_1} & \\cdots & \\frac{\\delta y_1}{\\delta x_n} \\\\\n",
    "\\vdots & \\ddots & \\vdots \\\\\n",
    "\\frac{delta y_m}{\\delta x_1} & \\cdots & \\frac{\\delta y_m}{\\delta x_n} \\\\\n",
    "\\end{bmatrix}\n",
    "$$\n",
    "\n",
    "Instead of computing the Jacobian matrix itself, PyTorch allows you to compute **Jacobian product** $v^T$. $J$ for a given input vector $v=(v_1\\cdots v_m)$. This is achieved by calling `backward` with $v$ as an argument. The size of $v$ should be the same as the size of the original tensor, with respect to which we want to compute the product."
   ]
  },
  {
   "cell_type": "code",
   "execution_count": 6,
   "id": "e7ba3de2",
   "metadata": {},
   "outputs": [
    {
     "name": "stdout",
     "output_type": "stream",
     "text": [
      "First call\n",
      "tensor([[4., 2., 2., 2., 2.],\n",
      "        [2., 4., 2., 2., 2.],\n",
      "        [2., 2., 4., 2., 2.],\n",
      "        [2., 2., 2., 4., 2.]])\n",
      "\n",
      "Second call\n",
      "tensor([[8., 4., 4., 4., 4.],\n",
      "        [4., 8., 4., 4., 4.],\n",
      "        [4., 4., 8., 4., 4.],\n",
      "        [4., 4., 4., 8., 4.]])\n",
      "\n",
      "Call after zeroing gradients\n",
      "tensor([[4., 2., 2., 2., 2.],\n",
      "        [2., 4., 2., 2., 2.],\n",
      "        [2., 2., 4., 2., 2.],\n",
      "        [2., 2., 2., 4., 2.]])\n"
     ]
    }
   ],
   "source": [
    "inp = torch.eye(4, 5, requires_grad=True)\n",
    "out = (inp + 1).pow(2).t()\n",
    "out.backward(torch.ones_like(out), retain_graph=True)\n",
    "print(f\"First call\\n{inp.grad}\")\n",
    "\n",
    "out.backward(torch.ones_like(out), retain_graph=True)\n",
    "print(f\"\\nSecond call\\n{inp.grad}\")\n",
    "\n",
    "inp.grad.zero_()\n",
    "out.backward(torch.ones_like(out), retain_graph=True)\n",
    "print(f\"\\nCall after zeroing gradients\\n{inp.grad}\")"
   ]
  },
  {
   "cell_type": "markdown",
   "id": "9aaff895",
   "metadata": {},
   "source": [
    "Notice that when we call `backward` for the second time with the same argument, the value of the gradient is different. This happens because when doing `backward` propagation, PyTorch **accumulates the gradients**, i.e. the value of computed gradients is added to the `grad` property of all leaf noes of the computational graph. If you want to compute the proper gradients, you need to zero out the `grad` property before. In real-life training, an *optimizer* helps us to do this.\n",
    "\n",
    "> **！Note**\n",
    ">\n",
    "> Previously we were calling the `backward()` function without parameters. This is essentially equivalent to calling `backward(torch.tensor(1.0))`, which is a useful way to compute the gradients in case of a scalar-valued function, such as loss during neural network training."
   ]
  }
 ],
 "metadata": {
  "kernelspec": {
   "display_name": ".venv",
   "language": "python",
   "name": "python3"
  },
  "language_info": {
   "codemirror_mode": {
    "name": "ipython",
    "version": 3
   },
   "file_extension": ".py",
   "mimetype": "text/x-python",
   "name": "python",
   "nbconvert_exporter": "python",
   "pygments_lexer": "ipython3",
   "version": "3.13.5"
  }
 },
 "nbformat": 4,
 "nbformat_minor": 5
}
