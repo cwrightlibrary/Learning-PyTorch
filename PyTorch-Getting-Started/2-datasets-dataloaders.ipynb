{
 "cells": [
  {
   "cell_type": "markdown",
   "id": "56264aa4",
   "metadata": {},
   "source": [
    "# [PyTorch - Learning the Basics](https://pytorch.org/tutorials/beginner/basics/intro.html)\n",
    "\n",
    "This is part two from the basics."
   ]
  },
  {
   "cell_type": "markdown",
   "id": "71d0a111",
   "metadata": {},
   "source": [
    "## Datasets & DataLoaders\n",
    "\n",
    "To keep our model training code readable and modular, we want to decouple our dataset code from the model training code. Otherwise, code for processing data samples can get messy and difficult to maintain. There are two data primitives in PyTorch: `torch.utils.data.DataLoader` and `torch.utils.data.Dataset`. These allow you to use pre-loaded datasets as well as your own data. `Dataset` stores the samples and their corresponding labels, and `DataLoader` wraps an iterable around the `Dataset` to enable easy access to the samples.\n",
    "\n",
    "There are a number of pre-loaded datasets in the PyTorch domain libraries that subclass `torch.utils.data.Dataset` and implement funtions specific to the particular data. They can be used to prototype and benchmark your own model and can be found here:\n",
    "\n",
    "- [Image Datasets](https://pytorch.org/vision/stable/datasets.html)\n",
    "- [Text Datasets](https://pytorch.org/text/stable/datasets.html)\n",
    "- [Audio Datasets](https://pytorch.org/audio/stable/datasets.html)"
   ]
  },
  {
   "cell_type": "markdown",
   "id": "bca7f054",
   "metadata": {},
   "source": [
    "### Loading a `Dataset`\n",
    "\n",
    "Below is an example of how to load the [Fashion-MNIST](https://research.zalando.com/project/fashion_mnist/fashion_mnist/) dataset from TorchVision. This dataset of Zalando's article images consisting of 60,000 training examples and 10,000 test examples. Each example comprises a 28x28 grayscale image and an associated label from one of 10 classes.\n",
    "\n",
    "**We load the [FashionMNIST Dataset](https://pytorch.org/vision/stable/datasets.html#fashion-mnist) with the following parameters:**\n",
    "\n",
    "- `root` is the path where the train/test data is stored,\n",
    "- `train` specifies training or test dataset,\n",
    "- `download=True` downloads the data from the internet if it's not available at `root`.\n",
    "- `transform` and `target_transform` specify the feature and label transformations."
   ]
  },
  {
   "cell_type": "code",
   "execution_count": 1,
   "id": "d7f67adf",
   "metadata": {},
   "outputs": [],
   "source": [
    "import torch\n",
    "from torch.utils.data import Dataset\n",
    "from torchvision import datasets\n",
    "from torchvision.transforms import ToTensor\n",
    "import matplotlib.pyplot as plt\n",
    "\n",
    "training_data = datasets.FashionMNIST(\n",
    "    root=\"data\",\n",
    "    train=True,\n",
    "    download=True,\n",
    "    transform=ToTensor()\n",
    ")\n",
    "\n",
    "test_data = datasets.FashionMNIST(\n",
    "    root=\"data\",\n",
    "    train=False,\n",
    "    download=True,\n",
    "    transform=ToTensor()\n",
    ")"
   ]
  },
  {
   "cell_type": "markdown",
   "id": "ed213e55",
   "metadata": {},
   "source": [
    "### Iterating and visualizing the `Dataset`\n",
    "\n",
    "We can index `Datasets` manually like a list: `training_data[index]`. We use `matplotlib` to visualize some samples in our training data."
   ]
  },
  {
   "cell_type": "code",
   "execution_count": 2,
   "id": "cb65cac0",
   "metadata": {},
   "outputs": [
    {
     "data": {
      "image/png": "[encoded data removed]",
      "text/plain": [
       "<Figure size 800x800 with 9 Axes>"
      ]
     },
     "metadata": {},
     "output_type": "display_data"
    }
   ],
   "source": [
    "labels_map = {\n",
    "    0: \"T-Shirt\",\n",
    "    1: \"Trouser\",\n",
    "    2: \"Pullover\",\n",
    "    3: \"Dress\",\n",
    "    4: \"Coat\",\n",
    "    5: \"Sandal\",\n",
    "    6: \"Shirt\",\n",
    "    7: \"Sneaker\",\n",
    "    8: \"Bag\",\n",
    "    9: \"Ankle Boot\",\n",
    "}\n",
    "\n",
    "figure = plt.figure(figsize=(8, 8))\n",
    "cols, rows = 3, 3\n",
    "\n",
    "for i in range(1, cols * rows + 1):\n",
    "    sample_idx = torch.randint(len(training_data), size=(1,)).item()\n",
    "    img, label = training_data[sample_idx]\n",
    "    \n",
    "    figure.add_subplot(rows, cols, i)\n",
    "    plt.title(labels_map[label])\n",
    "    plt.axis(\"off\")\n",
    "    plt.imshow(img.squeeze(), cmap=\"gray\")\n",
    "\n",
    "plt.show()"
   ]
  },
  {
   "cell_type": "markdown",
   "id": "aaa3b996",
   "metadata": {},
   "source": [
    "### Creating a custom `Dataset` from your files\n",
    "\n",
    "A custom `Dataset` class **must** implement three functions:\n",
    "\n",
    "- `__init__`,\n",
    "- `__len__`, and\n",
    "- `__getitem__`.\n",
    "\n",
    "We'll examine the implementation below; the FashionMNIST images are stored in a directory `img_dir`, and their labels are stored separately in a CSV file `annotations_file`.\n",
    "\n",
    "We'll break this down further on."
   ]
  },
  {
   "cell_type": "code",
   "execution_count": 3,
   "id": "bde57120",
   "metadata": {},
   "outputs": [],
   "source": [
    "import os\n",
    "import pandas as pd\n",
    "from torchvision.io import decode_image\n",
    "\n",
    "class CustomImageDataset(Dataset):\n",
    "    def __init__(self, annotations_file, img_dir, transform=None, target_transform=None):\n",
    "        self.img_labels = pd.read_csv(annotations_file)\n",
    "        self.img_dir = img_dir\n",
    "        self.transform = transform\n",
    "        self.target_transform = target_transform\n",
    "\n",
    "    def __len__(self):\n",
    "        return len(self.img_labels)\n",
    "\n",
    "    def __getitem__(self, idx):\n",
    "        img_path = os.path.join(self.img_dir, self.img_labels.iloc[idx, 0])\n",
    "        image = decode_image(image_path)\n",
    "        label = self.img_labels.iloc[idx, 1]\n",
    "\n",
    "        if self.transform:\n",
    "            image = self.transform(image)\n",
    "        if self.target_transform:\n",
    "            label = self.target_transform(label)\n",
    "        \n",
    "        return image, label"
   ]
  },
  {
   "cell_type": "markdown",
   "id": "0182e1f5",
   "metadata": {},
   "source": [
    "#### `__init__`\n",
    "\n",
    "The `__init__` function is run once when instantiating the `Dataset` object. We initialize the directory containing the images, the annotation files, and both transforms (covered in more detail later).\n",
    "\n",
    "The `labels.csv` file looks like:\n",
    "\n",
    "```csv\n",
    "tshirt1.jpg, 0\n",
    "tshirt2.jpg, 0\n",
    "......\n",
    "ankleboot999.jpg, 9\n",
    "```"
   ]
  },
  {
   "cell_type": "markdown",
   "id": "a8f0d006",
   "metadata": {},
   "source": [
    "#### `__len__`\n",
    "\n",
    "The `__len__` function returns the number of samples in our dataset. Very straightforward."
   ]
  },
  {
   "cell_type": "markdown",
   "id": "30228845",
   "metadata": {},
   "source": [
    "#### `__getitem__`\n",
    "\n",
    "The `__getitem__` function loads and returns a sample from the dataset at the given index `idx`. Based on the index, it identifies the image's location on disk, converts that to a tensor using `decode_image`, retrieves the corresponding label from the csv data in `self.img_labels`, calls the transform functions on them (if applicable), and returns the tensor image and corresponding label in a tuple."
   ]
  },
  {
   "cell_type": "markdown",
   "id": "2381d661",
   "metadata": {},
   "source": [
    "### Preparing your data for training with `DataLoaders`\n",
    "\n",
    "The `Dataset` retrieves our dataset's features and labels one sample at a time. We typically use samples in *minibatches* while training a model, reshuffle the data every epoch to reduce model overfitting, and use Python's `multiprocessing` to speed up data retreival.\n",
    "\n",
    "`DataLoader` is an iterable that abstracts this complexity for us in an easy API."
   ]
  },
  {
   "cell_type": "code",
   "execution_count": 4,
   "id": "1942c8b6",
   "metadata": {},
   "outputs": [],
   "source": [
    "from torch.utils.data import DataLoader\n",
    "\n",
    "train_dataloader = DataLoader(training_data, batch_size=64, shuffle=True)\n",
    "test_dataloader = DataLoader(test_data, batch_size=64, shuffle=True)"
   ]
  },
  {
   "cell_type": "markdown",
   "id": "c70ac669",
   "metadata": {},
   "source": [
    "### Iterate through the `DataLoader`\n",
    "\n",
    "Now that we've loaded the dataset into `DataLoader`, we can iterate through the dataset as needed. For each iteration below, a batch of `train_features` and `train_labels`, that contain `batch_size=64` features and labels respectively, is returned. And because we set `shuffle=True`, after we iterate over all the batches, the data is then shuffled. This is for finer-grained control over the data loading order; for more information, read more about [Samplers](https://pytorch.org/docs/stable/data.html#data-loading-order-and-sampler)."
   ]
  },
  {
   "cell_type": "code",
   "execution_count": 5,
   "id": "208ee6c8",
   "metadata": {},
   "outputs": [
    {
     "name": "stdout",
     "output_type": "stream",
     "text": [
      "Feature batch shape: torch.Size([64, 1, 28, 28])\n",
      "Labels batch shape: torch.Size([64])\n"
     ]
    },
    {
     "data": {
      "image/png": "[encoded data removed]",
      "text/plain": [
       "<Figure size 640x480 with 1 Axes>"
      ]
     },
     "metadata": {},
     "output_type": "display_data"
    },
    {
     "name": "stdout",
     "output_type": "stream",
     "text": [
      "Label: 0\n"
     ]
    }
   ],
   "source": [
    "# Display image and label\n",
    "train_features, train_labels = next(iter(train_dataloader))\n",
    "print(f\"Feature batch shape: {train_features.size()}\")\n",
    "print(f\"Labels batch shape: {train_labels.size()}\")\n",
    "\n",
    "img = train_features[0].squeeze()\n",
    "label = train_labels[0]\n",
    "\n",
    "plt.imshow(img, cmap=\"gray\")\n",
    "plt.show()\n",
    "print(f\"Label: {label}\")"
   ]
  }
 ],
 "metadata": {
  "kernelspec": {
   "display_name": ".venv",
   "language": "python",
   "name": "python3"
  },
  "language_info": {
   "codemirror_mode": {
    "name": "ipython",
    "version": 3
   },
   "file_extension": ".py",
   "mimetype": "text/x-python",
   "name": "python",
   "nbconvert_exporter": "python",
   "pygments_lexer": "ipython3",
   "version": "3.13.5"
  }
 },
 "nbformat": 4,
 "nbformat_minor": 5
}
