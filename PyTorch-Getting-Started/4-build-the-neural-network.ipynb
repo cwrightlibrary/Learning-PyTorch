{
 "cells": [
  {
   "cell_type": "markdown",
   "id": "15fdc2b7",
   "metadata": {},
   "source": [
    "# [PyTorch - Learning the Basics](https://pytorch.org/tutorials/beginner/basics/intro.html)\n",
    "\n",
    "Now, for part four, let's look into building a neural network."
   ]
  },
  {
   "cell_type": "markdown",
   "id": "a41e4312",
   "metadata": {},
   "source": [
    "## Build the neural network\n",
    "\n",
    "Foundationally, neural networks comprise of layers/modules that perform operations on data. The [`torch.nn`](https://pytorch.org/docs/stable/nn.html) namespace provides all the building blocks needed to build a neural network. Every module in PyTorch subclasses the [`nn.Module`](https://pytorch.org/docs/stable/generated/torch.nn.Module.html). A neural network is a module itself that consists of other modules, or layers. This nested structure allows for building and managing complex architectures easily.\n",
    "\n",
    "Along this notebook, we'll build a neural network to classify images in the FashionMNIST dataset."
   ]
  },
  {
   "cell_type": "code",
   "execution_count": 1,
   "id": "56632957",
   "metadata": {},
   "outputs": [],
   "source": [
    "import os\n",
    "import torch\n",
    "from torch import nn\n",
    "from torch.utils.data import DataLoader\n",
    "from torchvision import datasets, transforms"
   ]
  },
  {
   "cell_type": "markdown",
   "id": "3b4fae42",
   "metadata": {},
   "source": [
    "### Get device for training\n",
    "\n",
    "Ideally, we want to train our model on an accelerator such as CUDA, MPS (M1 Mac, what I'll mostly be using), MTIA, or XPU. If it's available we'll use it, otherwise we'll use the CPU."
   ]
  },
  {
   "cell_type": "code",
   "execution_count": 2,
   "id": "e0d1f903",
   "metadata": {},
   "outputs": [
    {
     "name": "stdout",
     "output_type": "stream",
     "text": [
      "Using mps device\n"
     ]
    }
   ],
   "source": [
    "device = torch.accelerator.current_accelerator().type if torch.accelerator.is_available() else \"cpu\"\n",
    "print(f\"Using {device} device\")"
   ]
  },
  {
   "cell_type": "markdown",
   "id": "cb79bffa",
   "metadata": {},
   "source": [
    "### Define the class\n",
    "\n",
    "We'll use `nn.Module` to define our neural network and initialize the layers in `__init__`. Every `nn.Module` subclass implements the operations on input data in the `forward` method."
   ]
  },
  {
   "cell_type": "code",
   "execution_count": 4,
   "id": "d023d95f",
   "metadata": {},
   "outputs": [],
   "source": [
    "class NeuralNetwork(nn.Module):\n",
    "    def __init__(self):\n",
    "        super().__init__()\n",
    "        self.flatten = nn.Flatten()\n",
    "        self.linear_relu_stack = nn.Sequential(\n",
    "            nn.Linear(28*28, 512),\n",
    "            nn.ReLU(),\n",
    "            nn.Linear(512, 512),\n",
    "            nn.ReLU(),\n",
    "            nn.Linear(512, 10),\n",
    "        )\n",
    "\n",
    "    def forward(self, x):\n",
    "        x = self.flatten(x)\n",
    "        logits = self.linear_relu_stack(x)\n",
    "        return logits"
   ]
  },
  {
   "cell_type": "markdown",
   "id": "b7eeea7b",
   "metadata": {},
   "source": [
    "Next, let's create an instance of `NeuralNetwork`, move it to the device, and print its structure."
   ]
  },
  {
   "cell_type": "code",
   "execution_count": 5,
   "id": "a180cd35",
   "metadata": {},
   "outputs": [
    {
     "name": "stdout",
     "output_type": "stream",
     "text": [
      "NeuralNetwork(\n",
      "  (flatten): Flatten(start_dim=1, end_dim=-1)\n",
      "  (linear_relu_stack): Sequential(\n",
      "    (0): Linear(in_features=784, out_features=512, bias=True)\n",
      "    (1): ReLU()\n",
      "    (2): Linear(in_features=512, out_features=512, bias=True)\n",
      "    (3): ReLU()\n",
      "    (4): Linear(in_features=512, out_features=10, bias=True)\n",
      "  )\n",
      ")\n"
     ]
    }
   ],
   "source": [
    "model = NeuralNetwork().to(device)\n",
    "print(model)"
   ]
  },
  {
   "cell_type": "markdown",
   "id": "7225afd7",
   "metadata": {},
   "source": [
    "We'll pass the input data through it to actually use the model. This will execute the model's `foward`, along with some other [background operations](https://github.com/pytorch/pytorch/blob/270111b7b611d174967ed204776985cefca9c144/torch/nn/modules/module.py#L866). **Do not call `model.forward()` directly!**\n",
    "\n",
    "Calling the model on the input returns a 2-dimensional tensor with `dim=0` corresponding to each output of 10 raw predicted values for each class, and `dim=1` corresponding to the individual values of each output. We get the prediction probabilities by passing it through an instance of the `nn.Softmax` module."
   ]
  },
  {
   "cell_type": "code",
   "execution_count": 6,
   "id": "f1a47601",
   "metadata": {},
   "outputs": [
    {
     "name": "stdout",
     "output_type": "stream",
     "text": [
      "Predicted class: tensor([9], device='mps:0')\n"
     ]
    }
   ],
   "source": [
    "X = torch.rand(1, 28, 28, device=device)\n",
    "logits = model(X)\n",
    "pred_probab = nn.Softmax(dim=1)(logits)\n",
    "y_pred = pred_probab.argmax(1)\n",
    "\n",
    "print(f\"Predicted class: {y_pred}\")"
   ]
  },
  {
   "cell_type": "markdown",
   "id": "c66c068f",
   "metadata": {},
   "source": [
    "### Model layers\n",
    "\n",
    "Let's take a sample minibatch of 3 images of size 28x28 to see what happens to it as we pass it through the network to illustrate what's going on to break down the layers in the FashionMNIST model."
   ]
  },
  {
   "cell_type": "code",
   "execution_count": 7,
   "id": "90c27950",
   "metadata": {},
   "outputs": [
    {
     "name": "stdout",
     "output_type": "stream",
     "text": [
      "torch.Size([3, 28, 28])\n"
     ]
    }
   ],
   "source": [
    "input_image = torch.rand(3, 28, 28)\n",
    "print(input_image.size())"
   ]
  },
  {
   "cell_type": "markdown",
   "id": "321c9471",
   "metadata": {},
   "source": [
    "### `nn.Flatten`\n",
    "\n",
    "We initialize the [`nn.Flatten`](https://pytorch.org/docs/stable/generated/torch.nn.Flatten.html) layer to convert each 2D 28x28 image into a contiguous array of 784 pixel values (the minimatch dimension (at `dim=0`) is maintained)."
   ]
  },
  {
   "cell_type": "code",
   "execution_count": 8,
   "id": "e95c50e7",
   "metadata": {},
   "outputs": [
    {
     "name": "stdout",
     "output_type": "stream",
     "text": [
      "torch.Size([3, 784])\n"
     ]
    }
   ],
   "source": [
    "flatten = nn.Flatten()\n",
    "flat_image = flatten(input_image)\n",
    "\n",
    "print(flat_image.size())"
   ]
  },
  {
   "cell_type": "markdown",
   "id": "d9afa060",
   "metadata": {},
   "source": [
    "### `nn.Linear`\n",
    "\n",
    "The [linear layer](https://pytorch.org/docs/stable/generated/torch.nn.Linear.html) is a module that applies a linear transformation on the input using its stored weights and biases."
   ]
  },
  {
   "cell_type": "code",
   "execution_count": 9,
   "id": "87dbcb52",
   "metadata": {},
   "outputs": [
    {
     "name": "stdout",
     "output_type": "stream",
     "text": [
      "torch.Size([3, 20])\n"
     ]
    }
   ],
   "source": [
    "layer1 = nn.Linear(in_features=28*28, out_features=20)\n",
    "hidden1 = layer1(flat_image)\n",
    "\n",
    "print(hidden1.size())"
   ]
  },
  {
   "cell_type": "markdown",
   "id": "5417fcc9",
   "metadata": {},
   "source": [
    "### `nn.ReLU`\n",
    "\n",
    "Non-linear activations are what create the complex mappings between the model's inputs and outputs. They are applied after linear transformations to introduce *nonlinearity*, which helps neural networks learn a wide variety of phenomena.\n",
    "\n",
    "In this model, we use [`nn.ReLU`](https://pytorch.org/docs/stable/generated/torch.nn.ReLU.html) between our linear layers, but there's other activations to introduce non-linearity in your model.\n",
    "\n",
    "> **！Personal Note**\n",
    ">\n",
    "> As far as I can tell, `hidden1`, before `ReLU`, uses `Addmm` and maps each element of the tensor between -1 and 1. After `ReLU`, they're mapped between 0 and 1, where anything that was previously below 0 is just set to 0."
   ]
  },
  {
   "cell_type": "code",
   "execution_count": 10,
   "id": "809dae88",
   "metadata": {},
   "outputs": [
    {
     "name": "stdout",
     "output_type": "stream",
     "text": [
      "Before ReLU: tensor([[-0.2143,  0.3532, -0.1648, -0.0441, -0.0677,  0.1451, -0.1018,  0.1009,\n",
      "         -0.0349,  0.2999, -0.6760, -0.3985,  0.0988, -0.0711,  0.6325, -0.4741,\n",
      "          0.0234,  0.1186,  0.6427, -0.0968],\n",
      "        [ 0.4606,  0.1896,  0.0837,  0.1411,  0.3766,  0.0901, -0.1442, -0.1908,\n",
      "          0.2644,  0.3386, -0.2272, -0.1684,  0.0178,  0.0539,  0.4104, -0.7913,\n",
      "         -0.0780, -0.3408,  0.4916, -0.2467],\n",
      "        [-0.2033,  0.1224, -0.2392, -0.3626,  0.0704,  0.1299, -0.1785,  0.0674,\n",
      "          0.3826,  0.7751, -0.4771, -0.1844,  0.0345,  0.2057,  0.3365, -0.4669,\n",
      "         -0.1711, -0.0764,  0.3533,  0.0260]], grad_fn=<AddmmBackward0>)\n",
      "\n",
      "\n",
      "After ReLU: tensor([[0.0000, 0.3532, 0.0000, 0.0000, 0.0000, 0.1451, 0.0000, 0.1009, 0.0000,\n",
      "         0.2999, 0.0000, 0.0000, 0.0988, 0.0000, 0.6325, 0.0000, 0.0234, 0.1186,\n",
      "         0.6427, 0.0000],\n",
      "        [0.4606, 0.1896, 0.0837, 0.1411, 0.3766, 0.0901, 0.0000, 0.0000, 0.2644,\n",
      "         0.3386, 0.0000, 0.0000, 0.0178, 0.0539, 0.4104, 0.0000, 0.0000, 0.0000,\n",
      "         0.4916, 0.0000],\n",
      "        [0.0000, 0.1224, 0.0000, 0.0000, 0.0704, 0.1299, 0.0000, 0.0674, 0.3826,\n",
      "         0.7751, 0.0000, 0.0000, 0.0345, 0.2057, 0.3365, 0.0000, 0.0000, 0.0000,\n",
      "         0.3533, 0.0260]], grad_fn=<ReluBackward0>)\n"
     ]
    }
   ],
   "source": [
    "print(f\"Before ReLU: {hidden1}\\n\\n\")\n",
    "\n",
    "hidden1 = nn.ReLU()(hidden1)\n",
    "print(f\"After ReLU: {hidden1}\")"
   ]
  },
  {
   "cell_type": "markdown",
   "id": "f045c99d",
   "metadata": {},
   "source": [
    "### `nn.Sequential`\n",
    "\n",
    "[`nn.Sequential`](https://pytorch.org/docs/stable/generated/torch.nn.Sequential.html) is an ordered container of modules. The data is passed through all the modules in the same order as defined. You can use sequential containers to put together a quick network like `seq_modules` below."
   ]
  },
  {
   "cell_type": "code",
   "execution_count": 11,
   "id": "b48a4e84",
   "metadata": {},
   "outputs": [],
   "source": [
    "seq_modules = nn.Sequential(\n",
    "    flatten,\n",
    "    layer1,\n",
    "    nn.ReLU(),\n",
    "    nn.Linear(20, 10)\n",
    ")\n",
    "\n",
    "input_image = torch.rand(3, 28, 28)\n",
    "logits = seq_modules(input_image)"
   ]
  },
  {
   "cell_type": "markdown",
   "id": "02f823c1",
   "metadata": {},
   "source": [
    "### `nn.Softmax`\n",
    "\n",
    "The last linear layer of the neural network returns *logits* - raw values in `[-infty, infty]` - which are passed to the [`nn.Softmax`](https://pytorch.org/docs/stable/generated/torch.nn.Softmax.html) module. The logits are scaled to values `[0,1]` representing the model's predicted probabilities for each class. The `dim` parameter indicates the dimension along which the values must sum to 1."
   ]
  },
  {
   "cell_type": "code",
   "execution_count": 17,
   "id": "2e116844",
   "metadata": {},
   "outputs": [
    {
     "name": "stdout",
     "output_type": "stream",
     "text": [
      "tensor(1., grad_fn=<SumBackward0>)\n"
     ]
    }
   ],
   "source": [
    "softmax = nn.Softmax(dim=1)\n",
    "pred_probab = softmax(logits)\n",
    "\n",
    "print(torch.sum(pred_probab[0]))"
   ]
  },
  {
   "cell_type": "markdown",
   "id": "0cf75f80",
   "metadata": {},
   "source": [
    "### Model parameters\n",
    "\n",
    "Many layers inside a neural network are *parameterized*, in other words, they have associated weights and biases that are optimized during training. Subclassing `nn.Module` automatically tracks all fields defined inside your model object, and makes all parameters accessible using your model's `parameters()` or `named_parameters()` methods.\n",
    "\n",
    "In the below example, we iterate over each parameter and print its size and a preview of its values."
   ]
  },
  {
   "cell_type": "code",
   "execution_count": 18,
   "id": "91e55e90",
   "metadata": {},
   "outputs": [
    {
     "name": "stdout",
     "output_type": "stream",
     "text": [
      "Model structure: NeuralNetwork(\n",
      "  (flatten): Flatten(start_dim=1, end_dim=-1)\n",
      "  (linear_relu_stack): Sequential(\n",
      "    (0): Linear(in_features=784, out_features=512, bias=True)\n",
      "    (1): ReLU()\n",
      "    (2): Linear(in_features=512, out_features=512, bias=True)\n",
      "    (3): ReLU()\n",
      "    (4): Linear(in_features=512, out_features=10, bias=True)\n",
      "  )\n",
      ")\n",
      "\n",
      "\n",
      "Layer: linear_relu_stack.0.weight | Size: torch.Size([512, 784]) | Values: tensor([[ 0.0290,  0.0022, -0.0082,  ..., -0.0165, -0.0073, -0.0086],\n",
      "        [ 0.0241, -0.0324, -0.0098,  ...,  0.0249, -0.0281,  0.0195]],\n",
      "       device='mps:0', grad_fn=<SliceBackward0>) \n",
      "\n",
      "Layer: linear_relu_stack.0.bias | Size: torch.Size([512]) | Values: tensor([-0.0215, -0.0112], device='mps:0', grad_fn=<SliceBackward0>) \n",
      "\n",
      "Layer: linear_relu_stack.2.weight | Size: torch.Size([512, 512]) | Values: tensor([[ 0.0075,  0.0252, -0.0365,  ..., -0.0302,  0.0387,  0.0167],\n",
      "        [-0.0204, -0.0100,  0.0141,  ..., -0.0053,  0.0187,  0.0251]],\n",
      "       device='mps:0', grad_fn=<SliceBackward0>) \n",
      "\n",
      "Layer: linear_relu_stack.2.bias | Size: torch.Size([512]) | Values: tensor([-0.0057,  0.0032], device='mps:0', grad_fn=<SliceBackward0>) \n",
      "\n",
      "Layer: linear_relu_stack.4.weight | Size: torch.Size([10, 512]) | Values: tensor([[ 0.0395, -0.0138, -0.0200,  ...,  0.0288, -0.0048,  0.0279],\n",
      "        [ 0.0382, -0.0275,  0.0271,  ..., -0.0043,  0.0180, -0.0191]],\n",
      "       device='mps:0', grad_fn=<SliceBackward0>) \n",
      "\n",
      "Layer: linear_relu_stack.4.bias | Size: torch.Size([10]) | Values: tensor([-0.0115, -0.0114], device='mps:0', grad_fn=<SliceBackward0>) \n",
      "\n"
     ]
    }
   ],
   "source": [
    "print(f\"Model structure: {model}\\n\\n\")\n",
    "\n",
    "for name, param in model.named_parameters():\n",
    "    print(f\"Layer: {name} | Size: {param.size()} | Values: {param[:2]} \\n\")"
   ]
  }
 ],
 "metadata": {
  "kernelspec": {
   "display_name": ".venv",
   "language": "python",
   "name": "python3"
  },
  "language_info": {
   "codemirror_mode": {
    "name": "ipython",
    "version": 3
   },
   "file_extension": ".py",
   "mimetype": "text/x-python",
   "name": "python",
   "nbconvert_exporter": "python",
   "pygments_lexer": "ipython3",
   "version": "3.13.5"
  }
 },
 "nbformat": 4,
 "nbformat_minor": 5
}
