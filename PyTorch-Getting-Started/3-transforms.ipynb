{
 "cells": [
  {
   "cell_type": "markdown",
   "id": "60f6db2d",
   "metadata": {},
   "source": [
    "# [PyTorch - Learning the Basics](https://pytorch.org/tutorials/beginner/basics/intro.html)\n",
    "\n",
    "For part three, we'll go over transforms in PyTorch."
   ]
  },
  {
   "cell_type": "markdown",
   "id": "9bdfa4e7",
   "metadata": {},
   "source": [
    "## Transforms\n",
    "\n",
    "Typically, data will not appear in its final processed form that we need for training machine learning algorithms. Because of these, we use **transforms** to perform some manipulation of the data and make it suitable for training.\n",
    "\n",
    "All TorchVision datasets have two parameters:\n",
    "\n",
    "- `transform` to modify the features, and\n",
    "- `target_transform` to modify the labels\n",
    "\n",
    "These two parameters accept callables containing the transformation logic. The `torchvision.transforms` module offers several commonly-used transforms out of the box.\n",
    "\n",
    "The FashionMNIST features are in PIL Image format, and the labels are integers. For training, we need the features as normalized tensors, and the labels as one-hot encoded tensors. In order to make these transformations, we'll use `ToTensor` and `Lambda`."
   ]
  },
  {
   "cell_type": "code",
   "execution_count": 1,
   "id": "7abe8434",
   "metadata": {},
   "outputs": [
    {
     "name": "stderr",
     "output_type": "stream",
     "text": [
      "100.0%\n",
      "100.0%\n",
      "100.0%\n",
      "100.0%\n"
     ]
    }
   ],
   "source": [
    "import torch\n",
    "from torchvision import datasets\n",
    "from torchvision.transforms import ToTensor, Lambda\n",
    "\n",
    "ds = datasets.FashionMNIST(\n",
    "    root=\"data\",\n",
    "    train=True,\n",
    "    download=True,\n",
    "    transform=ToTensor(),\n",
    "    target_transform=Lambda(lambda y: torch.zeros(10, dtype=torch.float).scatter_(0, torch.tensor(y), value=1))\n",
    ")"
   ]
  },
  {
   "cell_type": "markdown",
   "id": "e72bea31",
   "metadata": {},
   "source": [
    "### `ToTensor()`\n",
    "\n",
    "[`ToTensor`](https://pytorch.org/vision/stable/transforms.html#torchvision.transforms.ToTensor) converts a PIL image or `numpy` `ndarray` into a `FloatTensor` and scales the image's pixel intensity values in the range `[0., 1.]`."
   ]
  },
  {
   "cell_type": "markdown",
   "id": "5745008f",
   "metadata": {},
   "source": [
    "### `Lambda` transforms\n",
    "\n",
    "We can use `Lambda` transforms to apply any user-defined lambda function. In our example, we define a function to turn the integer into a one-hot encoded tensor. It first creates a zero tensor of size 10 (the number of labels in our dataset) and calls [`scatter_`](https://pytorch.org/docs/stable/generated/torch.Tensor.scatter_.html) which assigns a `value=1` on the index as given by the label `y`."
   ]
  }
 ],
 "metadata": {
  "kernelspec": {
   "display_name": ".venv",
   "language": "python",
   "name": "python3"
  },
  "language_info": {
   "codemirror_mode": {
    "name": "ipython",
    "version": 3
   },
   "file_extension": ".py",
   "mimetype": "text/x-python",
   "name": "python",
   "nbconvert_exporter": "python",
   "pygments_lexer": "ipython3",
   "version": "3.13.5"
  }
 },
 "nbformat": 4,
 "nbformat_minor": 5
}
