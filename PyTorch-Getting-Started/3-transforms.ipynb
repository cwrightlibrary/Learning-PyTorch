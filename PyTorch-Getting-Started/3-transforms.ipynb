{
 "cells": [
  {
   "cell_type": "markdown",
   "id": "60f6db2d",
   "metadata": {},
   "source": [
    "# [PyTorch - Learning the Basics](https://pytorch.org/tutorials/beginner/basics/intro.html)\n",
    "\n",
    "For part three, we'll go over transforms in PyTorch."
   ]
  },
  {
   "cell_type": "markdown",
   "id": "9bdfa4e7",
   "metadata": {},
   "source": [
    "## Transforms\n",
    "\n",
    "Typically, data will not appear in its final processed form that we need for training machine learning algorithms. Because of these, we use **transforms** to perform some manipulation of the data and make it suitable for training.\n",
    "\n",
    "All TorchVision datasets have two parameters:\n",
    "\n",
    "- `transform` to modify the features, and\n",
    "- `target_transform` to modify the labels\n",
    "\n",
    "These two parameters accept callables containing the transformation logic. The `torchvision.transforms` module offers several commonly-used transforms out of the box.\n",
    "\n",
    "The FashionMNIST features are in PIL Image format, and the labels are integers. For training, we need the features as normalized tensors, and the labels as one-hot encoded tensors. In order to make these transformations, we'll use `ToTensor` and `Lambda`."
   ]
  },
  {
   "cell_type": "code",
   "execution_count": null,
   "id": "7abe8434",
   "metadata": {},
   "outputs": [],
   "source": [
    "import torch\n",
    "from torchvision import datasets\n",
    "from torchvision.transforms import ToTensor, Lambda"
   ]
  }
 ],
 "metadata": {
  "kernelspec": {
   "display_name": ".venv",
   "language": "python",
   "name": "python3"
  },
  "language_info": {
   "name": "python",
   "version": "3.13.5"
  }
 },
 "nbformat": 4,
 "nbformat_minor": 5
}
